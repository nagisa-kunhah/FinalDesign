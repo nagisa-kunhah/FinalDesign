{
 "cells": [
  {
   "cell_type": "code",
   "execution_count": 1,
   "metadata": {},
   "outputs": [],
   "source": [
    "import os\n",
    "import re\n",
    "import time\n",
    "import requests\n",
    "from bs4 import BeautifulSoup\n",
    "from lxml import etree"
   ]
  },
  {
   "cell_type": "code",
   "execution_count": 14,
   "metadata": {},
   "outputs": [
    {
     "name": "stdout",
     "output_type": "stream",
     "text": [
      "https://movielens.org/movies/318\n"
     ]
    }
   ],
   "source": [
    "websit='https://movielens.org/movies'\n",
    "movie_path=websit+'/318'\n",
    "header={\n",
    "    'User-Agent':'Mozilla/5.0 (Windows NT 10.0; Win64; x64; rv:109.0) Gecko/20100101 Firefox/110.0'\n",
    "}\n",
    "print(movie_path)\n",
    "response=requests.get(url=movie_path,headers=header)\n",
    "# print(response.status_code)\n",
    "# print(response.text)\n",
    "tree=etree.HTML(response.text)"
   ]
  },
  {
   "cell_type": "code",
   "execution_count": 27,
   "metadata": {},
   "outputs": [
    {
     "name": "stdout",
     "output_type": "stream",
     "text": [
      "<!doctype html>\n",
      "<!--[if lt IE 7]>      <html class=\"no-js lt-ie9 lt-ie8 lt-ie7\"> <![endif]-->\n",
      "<!--[if IE 7]>         <html class=\"no-js lt-ie9 lt-ie8\"> <![endif]-->\n",
      "<!--[if IE 8]>         <html class=\"no-js lt-ie9\"> <![endif]-->\n",
      "<!--[if gt IE 8]><!-->\n",
      "<html class=\"no-js\" xmlns=\"http://www.w3.org/1999/html\"> <!--<![endif]-->\n",
      "  <head>\n",
      "    <base href=\"/\">\n",
      "    <meta charset=\"utf-8\">\n",
      "    <meta http-equiv=\"X-UA-Compatible\" content=\"IE=edge,chrome=1\">\n",
      "    <title>MovieLens</title>\n",
      "    <meta name=\"description\" content=\"\">\n",
      "    <meta name=\"viewport\" content=\"width=device-width, initial-scale=1.0\">\n",
      "\n",
      "    <!-- do not cache this page, please, to make upgrades easier -->\n",
      "    <meta http-equiv=\"Cache-control\" content=\"no-store, must-revalidate\">\n",
      "\n",
      "    <!-- favicon. thanks to realfavicongenerator.net -->\n",
      "    <link rel=\"apple-touch-icon\" sizes=\"57x57\" href=\"/apple-touch-icon-57x57.png\">\n",
      "    <link rel=\"apple-touch-icon\" sizes=\"60x60\" href=\"/apple-touch-icon-60x60.png\">\n",
      "    <link rel=\"apple-touch-icon\" sizes=\"72x72\" href=\"/apple-touch-icon-72x72.png\">\n",
      "    <link rel=\"apple-touch-icon\" sizes=\"76x76\" href=\"/apple-touch-icon-76x76.png\">\n",
      "    <link rel=\"apple-touch-icon\" sizes=\"114x114\" href=\"/apple-touch-icon-114x114.png\">\n",
      "    <link rel=\"apple-touch-icon\" sizes=\"120x120\" href=\"/apple-touch-icon-120x120.png\">\n",
      "    <link rel=\"icon\" type=\"image/png\" href=\"/favicon-32x32.png\" sizes=\"32x32\">\n",
      "    <link rel=\"icon\" type=\"image/png\" href=\"/favicon-96x96.png\" sizes=\"96x96\">\n",
      "    <link rel=\"icon\" type=\"image/png\" href=\"/favicon-16x16.png\" sizes=\"16x16\">\n",
      "    <link rel=\"manifest\" href=\"/manifest.json\">\n",
      "    <meta name=\"msapplication-TileColor\" content=\"#2b5797\">\n",
      "    <meta name=\"theme-color\" content=\"#ffffff\">\n",
      "\n",
      "    <link href=\"https://fonts.googleapis.com/css?family=Raleway|Roboto\" rel=\"stylesheet\">\n",
      "    <link type=\"text/plain\" rel=\"author\" href=\"/humans.txt\" />\n",
      "\n",
      "    <!-- Global site tag (gtag.js) - Google Analytics -->\n",
      "    <script async src=\"https://www.googletagmanager.com/gtag/js?id=UA-42433938-3\"></script>\n",
      "    <script>\n",
      "      window.dataLayer = window.dataLayer || [];\n",
      "      function gtag(){dataLayer.push(arguments);}\n",
      "      gtag('js', new Date());\n",
      "      gtag('config', 'UA-42433938-3', { 'send_page_view': false });\n",
      "    </script>\n",
      "\n",
      "  <link href=\"/app.aaae98d264cddc9ec6cf.css\" rel=\"stylesheet\"></head>\n",
      "  <body id=\"root\">\n",
      "    <!--[if lt IE 7]>\n",
      "      <p class=\"chromeframe\">You are using an outdated browser. <a href=\"http://browsehappy.com/\">Upgrade your browser today</a> or <a href=\"http://www.google.com/chromeframe/?redirect=true\">install Google Chrome Frame</a> to better experience this site.</p>\n",
      "    <![endif]-->\n",
      "\n",
      "    <!--[if lt IE 9]>\n",
      "      <script src=\"/components/es5-shim/es5-shim.min.js\"></script>\n",
      "      <script src=\"/components/json3/lib/json3.min.js\"></script>\n",
      "    <![endif]-->\n",
      "\n",
      "    <!-- application content -->\n",
      "    <ui-view></ui-view>\n",
      "\n",
      "    <!-- UserVoice -->\n",
      "    <script src=\"//widget.uservoice.com/nNM4uWr91Lqp2hE0wGLZTA.js\" async></script>\n",
      "\n",
      "  <script type=\"text/javascript\" src=\"/polyfills.aaae98d264cddc9ec6cf.js\"></script><script type=\"text/javascript\" src=\"/vendor.aaae98d264cddc9ec6cf.js\"></script><script type=\"text/javascript\" src=\"/app.aaae98d264cddc9ec6cf.js\"></script></body>\n",
      "</html>\n",
      "\n"
     ]
    }
   ],
   "source": [
    "# img=tree.xpath('//div[@class=\"base-compact-header-spacer\"]')\n",
    "# print(img)\n",
    "print(response.text)"
   ]
  }
 ],
 "metadata": {
  "kernelspec": {
   "display_name": "base",
   "language": "python",
   "name": "python3"
  },
  "language_info": {
   "codemirror_mode": {
    "name": "ipython",
    "version": 3
   },
   "file_extension": ".py",
   "mimetype": "text/x-python",
   "name": "python",
   "nbconvert_exporter": "python",
   "pygments_lexer": "ipython3",
   "version": "3.9.13"
  },
  "orig_nbformat": 4,
  "vscode": {
   "interpreter": {
    "hash": "b252d7cd785b71e172da3ea3f9bb583c7f237978e37e2489541bd05394a3564b"
   }
  }
 },
 "nbformat": 4,
 "nbformat_minor": 2
}
