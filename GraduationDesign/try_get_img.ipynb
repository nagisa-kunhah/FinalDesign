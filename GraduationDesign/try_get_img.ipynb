{
 "cells": [
  {
   "cell_type": "code",
   "execution_count": 121,
   "metadata": {},
   "outputs": [],
   "source": [
    "import os\n",
    "import re\n",
    "import time\n",
    "import requests\n",
    "from bs4 import BeautifulSoup\n",
    "from lxml import etree"
   ]
  },
  {
   "cell_type": "code",
   "execution_count": 122,
   "metadata": {},
   "outputs": [
    {
     "name": "stdout",
     "output_type": "stream",
     "text": [
      "200\n"
     ]
    }
   ],
   "source": [
    "url='https://www.themoviedb.org/movie/1077280-die-hart-the-movie'\n",
    "header={\n",
    "    'User-Agent':'Mozilla/5.0 (Windows NT 10.0; Win64; x64; rv:109.0) Gecko/20100101 Firefox/110.0'\n",
    "}\n",
    "response=requests.get(url=url,headers=header)\n",
    "print(response.status_code)"
   ]
  },
  {
   "cell_type": "code",
   "execution_count": 126,
   "metadata": {},
   "outputs": [
    {
     "name": "stdout",
     "output_type": "stream",
     "text": [
      "<Element html at 0x1d9e2ec5480>\n",
      "['/t/p/w300_and_h450_bestv2/u1u5tEew9zdfqJJuBXyauLQoAmT.jpg']\n",
      "<class 'str'>\n",
      "/t/p/w300_and_h450_bestv2/u1u5tEew9zdfqJJuBXyauLQoAmT.jpg\n"
     ]
    }
   ],
   "source": [
    "# print(response.text)\n",
    "tree=etree.HTML(response.text)\n",
    "print(tree)\n",
    "img=tree.xpath('//div[@class=\"image_content backdrop\"]/img/@data-src')\n",
    "print(img)\n",
    "print(type(str(img)))\n",
    "img=str(img[0])\n",
    "print(img)"
   ]
  },
  {
   "cell_type": "code",
   "execution_count": 61,
   "metadata": {},
   "outputs": [
    {
     "name": "stdout",
     "output_type": "stream",
     "text": [
      "https://www.themoviedb.org/t/p/w300_and_h450_bestv2/u1u5tEew9zdfqJJuBXyauLQoAmT.jpg\n"
     ]
    }
   ],
   "source": [
    "websit_path='https://www.themoviedb.org/'\n",
    "photo_url=websit_path[:-1]+img\n",
    "print(photo_url)"
   ]
  },
  {
   "cell_type": "code",
   "execution_count": 70,
   "metadata": {},
   "outputs": [],
   "source": [
    "save_path='./photo'\n",
    "# os.path.exists(save_path)\n",
    "if(os.path.exists(save_path)==False):\n",
    "    os.makedirs(save_path)\n",
    "# os.makedirs(save_path)\n",
    "img_name=save_path+'/1077280'+'.jpg'\n",
    "img_data=requests.get(photo_url)\n",
    "with open(img_name,'wb') as fp:\n",
    "    fp.write(img_data.content)"
   ]
  },
  {
   "attachments": {},
   "cell_type": "markdown",
   "metadata": {},
   "source": [
    "# Get photo from themoviedb"
   ]
  },
  {
   "cell_type": "code",
   "execution_count": 110,
   "metadata": {},
   "outputs": [],
   "source": [
    "def get_movie_cover(movie_id:int):\n",
    "    websit='https://www.themoviedb.org/movie/'\n",
    "    movie_path=websit+str(movie_id)\n",
    "    print(movie_path)\n",
    "    header={\n",
    "        'User-Agent':'Mozilla/5.0 (Windows NT 10.0; Win64; x64; rv:109.0) Gecko/20100101 Firefox/110.0'\n",
    "    }\n",
    "    response=requests.get(url=movie_path,headers=header)\n",
    "    print(response.status_code)\n",
    "    tree=etree.HTML(response.text)\n",
    "    img=tree.xpath('//div[@class=\"image_content backdrop\"]/img/@data-src')\n",
    "    img=str(img[0])\n",
    "    print(img)\n",
    "    websit_path='https://www.themoviedb.org/'\n",
    "    photo_url=websit_path[:-1]+img\n",
    "    save_path='./photo'\n",
    "# os.path.exists(save_path)\n",
    "    if(os.path.exists(save_path)==False):\n",
    "        os.makedirs(save_path)\n",
    "    # os.makedirs(save_path)\n",
    "    img_name=save_path+'/'+str(movie_id)+'.jpg'\n",
    "    img_data=requests.get(photo_url)\n",
    "    with open(img_name,'wb') as fp:\n",
    "        fp.write(img_data.content)"
   ]
  },
  {
   "cell_type": "code",
   "execution_count": 107,
   "metadata": {},
   "outputs": [],
   "source": [
    "import pandas as pd\n",
    "movie_ids=pd.read_csv('./data/links.csv')\n",
    "# for x in movie_ids['tmdbId']:\n",
    "#     # print(/)\n",
    "#     print(int(x))\n",
    "    # get_movie_cover(int(x))"
   ]
  },
  {
   "cell_type": "code",
   "execution_count": 119,
   "metadata": {},
   "outputs": [
    {
     "name": "stdout",
     "output_type": "stream",
     "text": [
      "https://movielens.org/movies/318\n",
      "200\n"
     ]
    }
   ],
   "source": [
    "websit='https://movielens.org/movies'\n",
    "movie_path=websit+'/318'\n",
    "header={\n",
    "    'User-Agent':'Mozilla/5.0 (Windows NT 10.0; Win64; x64; rv:109.0) Gecko/20100101 Firefox/110.0'\n",
    "}\n",
    "print(movie_path)\n",
    "response=requests.get(url=movie_path,headers=header)\n",
    "print(response.status_code)\n",
    "# tree=etree.HTML(response.text)"
   ]
  },
  {
   "cell_type": "code",
   "execution_count": 120,
   "metadata": {},
   "outputs": [
    {
     "name": "stdout",
     "output_type": "stream",
     "text": [
      "[]\n"
     ]
    }
   ],
   "source": [
    "tree=etree.HTML(response.text)\n",
    "img=tree.xpath('//a[@class=\"cursor-pointer\"]')\n",
    "print(img)"
   ]
  },
  {
   "cell_type": "code",
   "execution_count": 129,
   "metadata": {},
   "outputs": [],
   "source": [
    "a=[1,2]\n",
    "df=pd.DataFrame(a,columns=['id'])\n",
    "df.to_csv('a.csv',index=None)"
   ]
  }
 ],
 "metadata": {
  "kernelspec": {
   "display_name": "base",
   "language": "python",
   "name": "python3"
  },
  "language_info": {
   "codemirror_mode": {
    "name": "ipython",
    "version": 3
   },
   "file_extension": ".py",
   "mimetype": "text/x-python",
   "name": "python",
   "nbconvert_exporter": "python",
   "pygments_lexer": "ipython3",
   "version": "3.9.13"
  },
  "orig_nbformat": 4,
  "vscode": {
   "interpreter": {
    "hash": "b252d7cd785b71e172da3ea3f9bb583c7f237978e37e2489541bd05394a3564b"
   }
  }
 },
 "nbformat": 4,
 "nbformat_minor": 2
}
